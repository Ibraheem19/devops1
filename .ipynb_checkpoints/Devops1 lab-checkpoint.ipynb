{
 "cells": [
  {
   "cell_type": "code",
   "execution_count": 1,
   "id": "aad6acc0",
   "metadata": {},
   "outputs": [
    {
     "name": "stdout",
     "output_type": "stream",
     "text": [
      "Collecting PyGithub\n",
      "  Downloading PyGithub-1.56-py3-none-any.whl (293 kB)\n",
      "Requirement already satisfied: pyjwt>=2.0 in c:\\users\\almae\\anaconda3\\lib\\site-packages (from PyGithub) (2.1.0)\n",
      "Requirement already satisfied: pynacl>=1.4.0 in c:\\users\\almae\\anaconda3\\lib\\site-packages (from PyGithub) (1.4.0)\n",
      "Collecting deprecated\n",
      "  Downloading Deprecated-1.2.13-py2.py3-none-any.whl (9.6 kB)\n",
      "Requirement already satisfied: requests>=2.14.0 in c:\\users\\almae\\anaconda3\\lib\\site-packages (from PyGithub) (2.27.1)\n",
      "Requirement already satisfied: six in c:\\users\\almae\\anaconda3\\lib\\site-packages (from pynacl>=1.4.0->PyGithub) (1.16.0)\n",
      "Requirement already satisfied: cffi>=1.4.1 in c:\\users\\almae\\anaconda3\\lib\\site-packages (from pynacl>=1.4.0->PyGithub) (1.15.0)\n",
      "Requirement already satisfied: pycparser in c:\\users\\almae\\anaconda3\\lib\\site-packages (from cffi>=1.4.1->pynacl>=1.4.0->PyGithub) (2.21)\n",
      "Requirement already satisfied: urllib3<1.27,>=1.21.1 in c:\\users\\almae\\anaconda3\\lib\\site-packages (from requests>=2.14.0->PyGithub) (1.26.9)\n",
      "Requirement already satisfied: idna<4,>=2.5 in c:\\users\\almae\\anaconda3\\lib\\site-packages (from requests>=2.14.0->PyGithub) (3.3)\n",
      "Requirement already satisfied: charset-normalizer~=2.0.0 in c:\\users\\almae\\anaconda3\\lib\\site-packages (from requests>=2.14.0->PyGithub) (2.0.4)\n",
      "Requirement already satisfied: certifi>=2017.4.17 in c:\\users\\almae\\anaconda3\\lib\\site-packages (from requests>=2.14.0->PyGithub) (2021.10.8)\n",
      "Requirement already satisfied: wrapt<2,>=1.10 in c:\\users\\almae\\anaconda3\\lib\\site-packages (from deprecated->PyGithub) (1.12.1)\n",
      "Installing collected packages: deprecated, PyGithub\n",
      "Successfully installed PyGithub-1.56 deprecated-1.2.13\n",
      "Note: you may need to restart the kernel to use updated packages.\n"
     ]
    }
   ],
   "source": [
    "%pip install PyGithub"
   ]
  },
  {
   "cell_type": "code",
   "execution_count": 1,
   "id": "15094d23",
   "metadata": {},
   "outputs": [
    {
     "name": "stdout",
     "output_type": "stream",
     "text": [
      "Requirement already satisfied: pyyaml in c:\\users\\almae\\anaconda3\\lib\\site-packages (6.0)\n",
      "Note: you may need to restart the kernel to use updated packages.\n"
     ]
    }
   ],
   "source": [
    "%pip install pyyaml"
   ]
  },
  {
   "cell_type": "code",
   "execution_count": 3,
   "id": "97adf2a4",
   "metadata": {},
   "outputs": [
    {
     "name": "stdout",
     "output_type": "stream",
     "text": [
      "[Branch(name=\"main\")]\n",
      "[]\n",
      "Commit(sha=\"f68e6adcf790952df1faabc39dafcfe0b05dbbcc\")\n",
      "Commit(sha=\"677eea1a3eaab32f1a45f3a42eb6485bbe376e6a\")\n",
      "Commit(sha=\"de20f4d57ea3e32c349a120e34c1838faa3cf46a\")\n"
     ]
    }
   ],
   "source": [
    "from github import Github\n",
    "import yaml\n",
    "# credentials.yml contains your usr/repo and PAT created in step 11 above\n",
    "# So we load the data into a YML object\n",
    "data = yaml.safe_load(open('alma0216-credentials.yml'))\n",
    "# Extract the user and token from the data object\n",
    "# 0. Complete these 2 lines below\n",
    "user = data['creds']['username']\n",
    "token = data['creds']['token']\n",
    "# using an access token\n",
    "g = Github(token)\n",
    "repo = g.get_repo(user)\n",
    "## Complete your tasks from here\n",
    "\n",
    "# 1. Get all branches you have created for your public repo\n",
    "print(list(repo.get_branches()))\n",
    "# 2. Get all pull requests you have created\n",
    "pulls = repo.get_pulls()\n",
    "print(list(pulls))\n",
    "# 3. Get a list of commits you have created in your `main` branch\n",
    "commit = repo.get_commits('main')\n",
    "for i in list(commit):\n",
    "    print(i)"
   ]
  },
  {
   "cell_type": "code",
   "execution_count": null,
   "id": "0b6a4300",
   "metadata": {},
   "outputs": [],
   "source": []
  }
 ],
 "metadata": {
  "kernelspec": {
   "display_name": "Python 3 (ipykernel)",
   "language": "python",
   "name": "python3"
  },
  "language_info": {
   "codemirror_mode": {
    "name": "ipython",
    "version": 3
   },
   "file_extension": ".py",
   "mimetype": "text/x-python",
   "name": "python",
   "nbconvert_exporter": "python",
   "pygments_lexer": "ipython3",
   "version": "3.9.12"
  }
 },
 "nbformat": 4,
 "nbformat_minor": 5
}
